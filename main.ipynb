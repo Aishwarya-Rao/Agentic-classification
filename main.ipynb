{
 "cells": [
  {
   "cell_type": "code",
   "execution_count": 13,
   "metadata": {},
   "outputs": [],
   "source": [
    "# pip install requests beautifulsoup4 pyautogen"
   ]
  },
  {
   "cell_type": "code",
   "execution_count": 14,
   "metadata": {},
   "outputs": [],
   "source": [
    "url_1=\"https://en.wikipedia.org/wiki/University_of_California,_Berkeley\"\n",
    "url_2=\"https://en.wikipedia.org/wiki/Stanford_University\"\n",
    "\n",
    "res_1=requests.get(url_1)\n",
    "res_2=requests.get(url_2)\n",
    "\n",
    "content_1=\"\"\n",
    "content_2=\"\"\n",
    "\n",
    "if res_1.status_code==200 and res_2.status_code==200:\n",
    "    # print(\"content\",)\n",
    "    soup_1=BeautifulSoup(res_1.content,'html.parser')\n",
    "    paras_1=soup_1.find_all('p')\n",
    "    soup_2=BeautifulSoup(res_2.content,'html.parser')\n",
    "    paras_2=soup_2.find_all('p')\n",
    "\n",
    "    for p1, p2 in zip(paras_1,paras_2):\n",
    "        content_1 += p1.get_text()\n",
    "        content_2 += p2.get_text()\n",
    "\n",
    "# To handle both urls having different lengths\n",
    "\n",
    "    if len(paras_1) > len(paras_2):\n",
    "        for p in paras_1[len(paras_2):]:\n",
    "            content_1 += p.get_text()\n",
    "    elif len(paras_2) > len(paras_1):\n",
    "        for p in paras_2[len(paras_1):]:\n",
    "            content_2 += p.get_text()\n"
   ]
  },
  {
   "cell_type": "code",
   "execution_count": 15,
   "metadata": {},
   "outputs": [],
   "source": [
    "#print(content_1)\n",
    "#print(\"----------------------------\")\n",
    "#print(content_2)"
   ]
  },
  {
   "cell_type": "code",
   "execution_count": null,
   "metadata": {},
   "outputs": [
    {
     "name": "stdout",
     "output_type": "stream",
     "text": [
      "**Key Points:**\n",
      "\n",
      "- **Overview:** \n",
      "  - The University of California, Berkeley (UC Berkeley) is a public research university in Berkeley, California.\n",
      "  - Founded in 1868, it is the state's first land-grant university and part of the University of California system.\n",
      "\n",
      "- **Academics:**\n",
      "  - Enrolls over 45,000 students spread across 15 schools and colleges, including the College of Chemistry and the Haas School of Business.\n",
      "  - Classified as an \"R1: Doctoral University\" with very high research activity, boasting over $1 billion in federal research funding (2021).\n",
      "\n",
      "- **Research and Libraries:**\n",
      "  - Home to over 32 libraries, the sixth-largest research library system in the U.S.\n",
      "  - Lawrence Berkeley National Laboratory is affiliated with the university.\n",
      "\n",
      "- **Achievements:**\n",
      "  - 59 Nobel laureates and 19 Academy Award winners among alumni and faculty.\n",
      "  - National and Olympic sports recognition with 107 national championships and 223 Olympic medals.\n",
      "\n",
      "- **History:**\n",
      "  - Initially opened in 1869 with a small cohort, expanded significantly over time.\n",
      "  - Notable early contributions include the establishment of the ROTC programs and advances in nuclear physics during WWII.\n",
      "\n",
      "- **Financials:**\n",
      "  - Significant fundraising achievements, with over $6.2 billion raised through the \"Light the Way\" campaign (concluded in 2023).\n",
      "  - Governed by a Board of Regents, with various funding sources including state support and private donations.\n",
      "\n",
      "- **Campus Life:**\n",
      "  - Offers diverse housing options and student involvement in various student organizations and publications.\n",
      "  - Vibrant campus culture with multiple sports teams, including transition to the Atlantic Coast Conference (ACC) in 2024.\n",
      "\n",
      "- **Notable Alumni:**\n",
      "  - Alumni include influential figures in politics, science, technology, literature, and athletics, contributing substantially to numerous fields.\n",
      "  - Many alumni have founded or significantly contributed to tech companies and innovations, especially in the computer science arena.\n",
      "\n",
      "- **Cultural Contributions:**\n",
      "  - A rich tradition in the arts, including performance arts and student-run media (radio, television, and newspapers).\n",
      "  \n",
      "- **Campus Features:**\n",
      "  - The Berkeley campus encompasses 1,232 acres, including various recreational and cultural facilities like museums and botanical gardens.\n",
      "  \n",
      "**Category:** Education / University Overview\n"
     ]
    }
   ],
   "source": [
    "agent_1 = ConversableAgent(\n",
    "    \"summariser\",\n",
    "    system_message=\"You are a summariser. You will be provided with content scraped from a website and you need to summarise the content provided to you with key points. Also at the end of your response return the category of the content provided to you.\",\n",
    "    llm_config={\"config_list\": [{\"model\": \"gpt-4o-mini\", \"api_key\": OPENAI_API_KEY}]},\n",
    "    code_execution_config=False,  # Turn off code execution, by default it is off.\n",
    "    function_map=None,  # No registered functions, by default it is None.\n",
    "    human_input_mode=\"NEVER\",  # Never ask for human input.\n",
    ")\n",
    "\n",
    "reply_1 = agent_1.generate_reply(messages=[{\"content\": content_1, \"role\": \"user\"}])\n",
    "print(reply_1)"
   ]
  },
  {
   "cell_type": "code",
   "execution_count": null,
   "metadata": {},
   "outputs": [
    {
     "name": "stdout",
     "output_type": "stream",
     "text": [
      "**Key Points:**\n",
      "\n",
      "1. **Foundation and History:**\n",
      "   - Stanford University, founded in 1885 by Leland Stanford and Jane Stanford, began admitting students in 1891.\n",
      "   - It was established in memory of their only child, Leland Jr.\n",
      "   - The university faced financial struggles after Leland's death and following the 1906 San Francisco earthquake.\n",
      "\n",
      "2. **Campus and Structure:**\n",
      "   - Stanford is located on an 8,180-acre campus in California, one of the largest in the U.S.\n",
      "   - It is organized into seven academic schools offering a wide range of undergraduate and graduate programs.\n",
      "\n",
      "3. **Academic Prestige:**\n",
      "   - Stanford has a distinguished faculty, including 58 Nobel laureates and a total of 74 living billionaires associated with it.\n",
      "   - It is classified as an \"R1: Doctoral University\" indicating very high research activity.\n",
      "\n",
      "4. **Research Culture:**\n",
      "   - The university plays a vital role in the development of Silicon Valley through its entrepreneurial culture fostered by figures like Frederick Terman.\n",
      "   - Stanford Research Park, established in 1951, is the world’s first university research park.\n",
      "\n",
      "5. **Student Body:**\n",
      "   - Enrollment includes around 6,996 undergraduates and 10,253 graduate students.\n",
      "   - The university has a diverse student demographic and offers generous financial aid policies.\n",
      "\n",
      "6. **Athletics:**\n",
      "   - Stanford participates in 36 varsity sports and has won 136 NCAA team championships.\n",
      "   - The school mascot is the Stanford Tree, and teams are referred to as the \"Cardinal\".\n",
      "\n",
      "7. **Housing and Student Life:**\n",
      "   - Stanford offers various on-campus housing options, including theme houses and co-ops.\n",
      "   - More than 600 student organizations exist, spanning various interests and disciplines.\n",
      "\n",
      "8. **Cultural and Artistic Contributions:**\n",
      "   - The campus houses several notable landmarks and museums, including the Cantor Center for Visual Arts with a vast collection of Rodin sculptures.\n",
      "\n",
      "9. **Controversies:**\n",
      "   - The university faced past issues regarding discrimination in admissions, ethical criticisms from the Stanford prison experiment, and notable instances of campus violence and sexual misconduct.\n",
      "\n",
      "10. **Reputation and Rankings:**\n",
      "    - Frequently ranked among the top universities globally, Stanford is recognized for innovation, business, and law programs, often corresponding with high selectivity in admissions.\n",
      "\n",
      "**Category:** Education/University Overview\n"
     ]
    }
   ],
   "source": [
    "agent_2 = ConversableAgent(\n",
    "    \"summariser\",\n",
    "    system_message=\"You are a summariser. You will be provided with content scraped from a website and you need to summarise the content provided to you with key points. Also at the end of your response return the category of the content provided to you.\",\n",
    "    llm_config={\"config_list\": [{\"model\": \"gpt-4o-mini\", \"api_key\": OPEN_API_KEY}]},\n",
    "    code_execution_config=False,  # Turn off code execution, by default it is off.\n",
    "    function_map=None,  # No registered functions, by default it is None.\n",
    "    human_input_mode=\"NEVER\",  # Never ask for human input.\n",
    ")\n",
    "\n",
    "reply_2 = agent_2.generate_reply(messages=[{\"content\": content_2, \"role\": \"user\"}])\n",
    "print(reply_2)"
   ]
  }
 ],
 "metadata": {
  "language_info": {
   "name": "python"
  }
 },
 "nbformat": 4,
 "nbformat_minor": 2
}
